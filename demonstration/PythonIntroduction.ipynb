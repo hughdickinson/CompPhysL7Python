{
 "metadata": {
  "name": "",
  "signature": "sha256:6cdda62cbf89b8a64c1ed349ab485954afb22ef6f44a5f13f8d8ba896d819ed8"
 },
 "nbformat": 3,
 "nbformat_minor": 0,
 "worksheets": [
  {
   "cells": [
    {
     "cell_type": "heading",
     "level": 1,
     "metadata": {},
     "source": [
      "Introductory Python"
     ]
    },
    {
     "cell_type": "heading",
     "level": 2,
     "metadata": {},
     "source": [
      "Preliminaries"
     ]
    },
    {
     "cell_type": "heading",
     "level": 3,
     "metadata": {},
     "source": [
      "Input and Output"
     ]
    },
    {
     "cell_type": "markdown",
     "metadata": {},
     "source": [
      "Input in IPython Notebook is achieved by entering text into __discrete__, __configurable__ cells. The manner in which the entered text is interpreted depends upon the configuration of the cell. Available cell configurations include Python source code that can be executed upon demand, formatted annotation text (like this cell), and various levels of section heading (like the preceding cells).\n",
      "\n",
      "* Cells can be __added__ to the notebook using the <i style=\"padding:0px 2px 0px 2px\" class=\"icon-plus-sign\"></i> button, and __removed__ using the <i style=\"padding:0px 2px 0px 2px\" class=\"icon-cut\"></i> button.\n",
      "* The __cell configuration__ can be selected from the drop-down menu to the right of the <i style=\"padding:0px 2px 0px 2px\" class=\"icon-repeat\"></i> button. \n",
      "* To create a cell with contents that can be interpreted and executed as Python source code, select the \"Code\" configuration from the drop-down menu.\n",
      "\n",
      "Like the Linux terminal, IPython Notebook supports __tab-completion__ to save your typing time! Just type the first few characters and press the *Tab* key to autocomplete or see a list of possible completions. "
     ]
    },
    {
     "cell_type": "heading",
     "level": 3,
     "metadata": {},
     "source": [
      "Entering and Executing Python Source Code"
     ]
    },
    {
     "cell_type": "markdown",
     "metadata": {},
     "source": [
      "The next cell is an example of a cell that was created using the \"Code\" configuration. \"Code\" input cells are identifiable by the presence of an `In [n]` token to their left, where the value of `n` counts the number of \"Code\" cells that have been executed during the current IPython Notebook session. \n",
      "\n",
      "__Select the cell using the mouse and type _Shift-Enter_ to execute the code it contains__.\n",
      "\n",
      "__Note__ that the Python language __does not__ require a statement termination character like the \"`;`\" in C++."
     ]
    },
    {
     "cell_type": "code",
     "collapsed": false,
     "input": [
      "'This is a cell that was created using the \"Code\" Configuration.' "
     ],
     "language": "python",
     "metadata": {},
     "outputs": [
      {
       "metadata": {},
       "output_type": "pyout",
       "prompt_number": 83,
       "text": [
        "'This is a cell that was created using the \"Code\" Configuration.'"
       ]
      }
     ],
     "prompt_number": 83
    },
    {
     "cell_type": "markdown",
     "metadata": {},
     "source": [
      "If the __final statement__ of the code comprising the cell contents produces any result __that would otherwise be ignored__ (i.e. it is not assigned to a variable or explicitly printed), this is automatically printed directly below the input code with an `Out[n]` token to its left. "
     ]
    },
    {
     "cell_type": "markdown",
     "metadata": {},
     "source": [
      "Any side-effects of executing Python code in a \"Code\" cell (e.g. the declaration and initialization of a variable) persist to subsequent \"Code\" cells."
     ]
    },
    {
     "cell_type": "heading",
     "level": 3,
     "metadata": {},
     "source": [
      "Comments"
     ]
    },
    {
     "cell_type": "markdown",
     "metadata": {},
     "source": [
      "In Python source code, the start inline comments may be specified using the `#` token. All characters on a line that follow a `#` token will be interpreted as a comment e.g. "
     ]
    },
    {
     "cell_type": "code",
     "collapsed": false,
     "input": [
      "# This is an inline comment"
     ],
     "language": "python",
     "metadata": {},
     "outputs": [],
     "prompt_number": 8
    },
    {
     "cell_type": "heading",
     "level": 3,
     "metadata": {},
     "source": [
      "Explicitly Printing Output"
     ]
    },
    {
     "cell_type": "markdown",
     "metadata": {},
     "source": [
      "The `print()` function can be used to explicitly print __literals__ and __variables__."
     ]
    },
    {
     "cell_type": "code",
     "collapsed": false,
     "input": [
      "print \"This line will be printed.\"\n",
      "print(\"As will this one - parentheses are optional when calling the print() function - At least before Python 3.0!\")\n",
      "print 'Single quotes also be used to specify strings in Python'\n",
      "print 'The print function can have multiple arguments, this one has ','2'\n",
      "print \"The arguments can have different types.\",\"This is a string, but these: (\", 2, 2.0, 5e13, \") are numbers\"\n",
      "\n",
      "# Declare a variable (see later for details)\n",
      "myFirstPythonVariable = \"IPython Notebook\"\n",
      "print myFirstPythonVariable"
     ],
     "language": "python",
     "metadata": {},
     "outputs": [
      {
       "output_type": "stream",
       "stream": "stdout",
       "text": [
        "This line will be printed.\n",
        "As will this one - parentheses are optional when calling the print() function - At least before Python 3.0!\n",
        "Single quotes also be used to specify strings in Python\n",
        "The print function can have multiple arguments, this one has  2\n",
        "The arguments can have different types. This is a string, but these: ( 2 2.0 5e+13 ) are numbers\n",
        "IPython Notebook\n"
       ]
      }
     ],
     "prompt_number": 140
    },
    {
     "cell_type": "heading",
     "level": 2,
     "metadata": {},
     "source": [
      "Types and Variables"
     ]
    },
    {
     "cell_type": "heading",
     "level": 3,
     "metadata": {},
     "source": [
      "Python is Weakly Typed"
     ]
    },
    {
     "cell_type": "markdown",
     "metadata": {},
     "source": [
      "Python is a __weakly typed__ programming language. This does __not__ mean that variables do not have a type in Python, nor that type specification is meaningless. Rather, it means that the Python interpreter will attempt to  __infer__, __assign__ or __modify__ the type of a variable based upon the __value__ that is assigned to it. This has __several consequences__.\n",
      "* Variable declarations do __not__ include a type specifier.\n",
      "* New variable declarations __must__ include an _initialization_ to enable the interpreter to a assign a type.\n",
      "* The type of a variable is __not fixed__ (as it would be in C++) and can change as different values are assigned to it.\n",
      "\n",
      "To determine the type that the interpreter has inferred for a particular variable use the `type()` function."
     ]
    },
    {
     "cell_type": "code",
     "collapsed": false,
     "input": [
      "# Declare a new variable and initialize it with an integer value.\n",
      "mySecondPythonVariable=42 "
     ],
     "language": "python",
     "metadata": {},
     "outputs": [],
     "prompt_number": 6
    },
    {
     "cell_type": "code",
     "collapsed": false,
     "input": [
      "# Use the type() function to determine the type that the Python interpreter has inferred for the new variable\n",
      "type(mySecondPythonVariable)"
     ],
     "language": "python",
     "metadata": {},
     "outputs": [
      {
       "metadata": {},
       "output_type": "pyout",
       "prompt_number": 7,
       "text": [
        "int"
       ]
      }
     ],
     "prompt_number": 7
    },
    {
     "cell_type": "markdown",
     "metadata": {},
     "source": [
      "Reassuringly, the interpreter has inferred that `mySecondPythonVariable` is an integer. The corresponding type specifier is `int`."
     ]
    },
    {
     "cell_type": "heading",
     "level": 3,
     "metadata": {},
     "source": [
      "Python's Built-in types"
     ]
    },
    {
     "cell_type": "markdown",
     "metadata": {},
     "source": [
      "The Python language includes a number of __built-in__ types including __*numeric types*__, __*string types*__, __*list types*__ and a number of __more sophisticated *data structures*__."
     ]
    },
    {
     "cell_type": "heading",
     "level": 4,
     "metadata": {},
     "source": [
      "Built-in Types Are Classes"
     ]
    },
    {
     "cell_type": "markdown",
     "metadata": {},
     "source": [
      "__All__ of Python's built-in types (*even numeric types*) are implemented as __classes__ and __often__ provide public member data and  methods. See the [Built-in Types](https://docs.python.org/2/library/stdtypes.html) section of the Python online documentation for more details."
     ]
    },
    {
     "cell_type": "heading",
     "level": 3,
     "metadata": {},
     "source": [
      "Boolean Type"
     ]
    },
    {
     "cell_type": "markdown",
     "metadata": {},
     "source": [
      "In Python the `bool` type is returned as the result of boolean operations. Variables that are assigned the `bool` type may have one of __two possible values__. Literal `bool` values are __case-sensitive__ and can be either \"`True`\" or \"`False`\"."
     ]
    },
    {
     "cell_type": "heading",
     "level": 3,
     "metadata": {},
     "source": [
      "Numeric Types"
     ]
    },
    {
     "cell_type": "heading",
     "level": 4,
     "metadata": {},
     "source": [
      "Numeric Types - Integers"
     ]
    },
    {
     "cell_type": "markdown",
     "metadata": {},
     "source": [
      "* `int` - A __signed__ integral type that is __guaranteed__ to be represented using at least 4 bytes.\n",
      "    * __*Literal*__ `int` values can be expressed in decimal, octal or hexadecimal representations."
     ]
    },
    {
     "cell_type": "code",
     "collapsed": false,
     "input": [
      "decimalInt = 42\n",
      "octalInt = 052 # Octal int literals are prefixed by a 0 (\"zero\") character\n",
      "hexadecimalInt = 0x2A # Hexadecimal int literals are prefixed by the 0x character sequence\n",
      "\n",
      "# Print the variable values with annotation\n",
      "print \"decimalInt => \",decimalInt\n",
      "print \"octalInt => \",octalInt\n",
      "print \"hexadecimalInt => \",hexadecimalInt"
     ],
     "language": "python",
     "metadata": {},
     "outputs": [
      {
       "output_type": "stream",
       "stream": "stdout",
       "text": [
        "decimalInt =>  42\n",
        "octalInt =>  42\n",
        "hexadecimalInt =>  42\n"
       ]
      }
     ],
     "prompt_number": 18
    },
    {
     "cell_type": "markdown",
     "metadata": {},
     "source": [
      "* `long` - An __signed__ integral type with \"__unlimited__\" precision. In principle, it can be used to represent integers of arbitrary size. If an integer value that is too large to be represented by an ordinary `int` type is assigned to a variable, the Python interpreter will assign the `long` type to the variable.\n",
      "    * __*Literal*__ `long` values can be expressed in decimal, octal or hexadecimal representations using an __additional__ \"`L`\" suffix."
     ]
    },
    {
     "cell_type": "code",
     "collapsed": false,
     "input": [
      "# \"long\" literals can be explicitly specified using a \"L\" suffix.\n",
      "decimalLong = 1234567891011121314L\n",
      "octalLong = 0104420417226264430242L # Octal long literals are prefixed by a 0 (\"zero\") character\n",
      "hexadecimalLong = 0x112210F4B2D230A2 # Hexadecimal long literals are prefixed by the 0x character sequence\n",
      "\n",
      "# Print the variable values with annotation\n",
      "print \"decimalLong => \",decimalLong\n",
      "print \"octalLong => \",octalLong\n",
      "print \"hexadecimalLong => \",hexadecimalLong"
     ],
     "language": "python",
     "metadata": {},
     "outputs": [
      {
       "output_type": "stream",
       "stream": "stdout",
       "text": [
        "decimalLong =>  1234567891011121314\n",
        "octalLong =>  1234567891011121314\n",
        "hexadecimalLong =>  1234567891011121314\n"
       ]
      }
     ],
     "prompt_number": 12
    },
    {
     "cell_type": "heading",
     "level": 4,
     "metadata": {},
     "source": [
      "Numeric Types - Real Numbers"
     ]
    },
    {
     "cell_type": "markdown",
     "metadata": {},
     "source": [
      "* `float` - A real-valued numeric type that is __usually__ equivalent to a double precision type in C++.\n",
      "    * Literal `float` values include a *decimal point* character and may be expressed in __*Scientific Notation*__."
     ]
    },
    {
     "cell_type": "code",
     "collapsed": false,
     "input": [
      "# The mean acceleration due to the force of gravity at the surface of the Earth (ms^{-2})\n",
      "gravitationalAcceleration = 9.81\n",
      "\n",
      "# The mass of a proton expressed using scientific notation (kg)\n",
      "protonMass = 1.67262178e-27\n",
      "\n",
      "# Print the variable values with annotation\n",
      "print \"g = \", gravitationalAcceleration, \"ms^{-2}\"\n",
      "print \"M_p = \",protonMass, \"kg\""
     ],
     "language": "python",
     "metadata": {},
     "outputs": [
      {
       "output_type": "stream",
       "stream": "stdout",
       "text": [
        "g =  9.81 ms^{-2}\n",
        "M_p =  1.67262178e-27 kg\n"
       ]
      }
     ],
     "prompt_number": 13
    },
    {
     "cell_type": "heading",
     "level": 4,
     "metadata": {},
     "source": [
      "Numeric Types - Complex Numbers"
     ]
    },
    {
     "cell_type": "markdown",
     "metadata": {},
     "source": [
      "* `complex` - The Python language provides a __built-in__ complex type. This type has two __real-valued__ components, a *real* part and an *imaginary* part.\n",
      "    * Literal `complex` values are expressed as a sum (or differenc) of *optional* real and imaginary parts with the imaginary part identified using the \"`J`\" suffix.\n",
      "    * The real and imaginary parts of a `complex`-typed variable can be accessed by referencing the `real` and `imag` member data."
     ]
    },
    {
     "cell_type": "code",
     "collapsed": false,
     "input": [
      "# Declare and initialize a complex number in the top right-hand quadrant \n",
      "# of the Argand diagram. The imaginary part is identified by the \"J\" suffix.\n",
      "complexNumberTopRight = 5+3.1J\n",
      "\n",
      "# Declare and initialize a complex number in the bottom left-hand quadrant \n",
      "# of the Argand diagram. The imaginary part is identified by the \"J\" suffix.\n",
      "complexNumberBottomLeft = -3.7-2.8J\n",
      "\n",
      "# Declare and initialize a purely imaginary number using the \"J\" suffix.\n",
      "imaginaryNumber = 4.2J\n",
      "\n",
      "# Print the variable values with annotation\n",
      "print \"complexNumberTopRight =>\",complexNumberTopRight\n",
      "print \"complexNumberBottomLeft =>\",complexNumberBottomLeft\n",
      "print \"imaginaryNumber =>\",imaginaryNumber\n",
      "print \"Im(complexNumberTopRight) => \", complexNumberTopRight.imag\n",
      "print \"Re(complexNumberBottomLeft) => \", complexNumberBottomLeft.real"
     ],
     "language": "python",
     "metadata": {},
     "outputs": [
      {
       "output_type": "stream",
       "stream": "stdout",
       "text": [
        "complexNumberTopRight => (5+3.1j)\n",
        "complexNumberBottomLeft => (-3.7-2.8j)\n",
        "imaginaryNumber => 4.2j\n",
        "Im(complexNumberTopRight) =>  3.1\n",
        "Re(complexNumberBottomLeft) =>  -3.7\n"
       ]
      }
     ],
     "prompt_number": 17
    },
    {
     "cell_type": "heading",
     "level": 3,
     "metadata": {},
     "source": [
      "Sequence Types"
     ]
    },
    {
     "cell_type": "markdown",
     "metadata": {},
     "source": [
      "Python provides several __Sequence Types__ that provide __sequence-type-specific__ subsets of a rich suite of functionality including __dynamic extension__, __searching__, __concatenation__, __element-wise equality comparison__ and __slicing__ to extract specifiable subsets of the sequence elements."
     ]
    },
    {
     "cell_type": "heading",
     "level": 4,
     "metadata": {},
     "source": [
      "Sequence Types - Lists"
     ]
    },
    {
     "cell_type": "markdown",
     "metadata": {},
     "source": [
      "The `list` type provides a convenient data structure for to associate groups of data with a common identifier. The `list` type provided by Python is the closest approximation in the language to a basic C++ array. However, the analogy is far from ideal. C++ arrays are __*homogeneous*__ containers and may only contain data with a __single__ type. In contrast, Python `list`s are __*heterogeneous*__ containers and may contain data with multiple different types. \n",
      "\n",
      "* Literal Python `list`s are expressed as comma separated lists comprising arbitrary combinations of literal values and variable identifiers enclosed between square brackets \"`[]`\".\n",
      "* The elements of a `list` can be \"*indexed*\" (i.e. accessed using their position in the list) using the `[]` operator. __List positions begin from zero__."
     ]
    },
    {
     "cell_type": "code",
     "collapsed": false,
     "input": [
      "# Declare and initialize a list using three, heterogeneously typed, literal values\n",
      "listOfLiterals = [42, \"Forty-two\", 42.0]\n",
      "\n",
      "# Declare and initialize some variables with different types\n",
      "# 1) Two ints\n",
      "firstIntVariable = 3\n",
      "secondIntVariable = 1\n",
      "\n",
      "# 2) An string\n",
      "stringVariable = \"PI\"\n",
      "\n",
      "# 3) A float\n",
      "floatVariable = 3.14\n",
      "\n",
      "# Declare and initialize a list using the three, heterogeneously typed variable identifiers.\n",
      "listOfVariables = [firstIntVariable, stringVariable, floatVariable]\n",
      "\n",
      "# Declare and initialize a list using a heterogeneously typed mixture of variable identifiers \n",
      "# and literal values.\n",
      "mixedList = [\"Magnum\", stringVariable, \"ROBIN \", secondIntVariable]\n",
      "\n",
      "# Print the lists with annotation - Note that no (explicit) loops are required\n",
      "print \"listOfLiterals => \",listOfLiterals\n",
      "print \"listOfVariables => \",listOfVariables\n",
      "print \"mixedList => \",mixedList\n",
      "\n",
      "# Index a particular element of each list and print its value\n",
      "print \"listOfLiterals[1] => \",listOfLiterals[1]\n",
      "print \"listOfVariables[2] => \",listOfVariables[2]\n",
      "print \"mixedList[3] => \",mixedList[3]"
     ],
     "language": "python",
     "metadata": {},
     "outputs": [
      {
       "output_type": "stream",
       "stream": "stdout",
       "text": [
        "listOfLiterals =>  [42, 'Forty-two', 42.0]\n",
        "listOfVariables =>  [3, 'PI', 3.14]\n",
        "mixedList =>  ['Magnum', 'PI', 'ROBIN ', 1]\n",
        "listOfLiterals[1] =>  Forty-two\n",
        "listOfVariables[2] =>  3.14\n",
        "mixedList[3] =>  1\n"
       ]
      }
     ],
     "prompt_number": 64
    },
    {
     "cell_type": "heading",
     "level": 4,
     "metadata": {},
     "source": [
      "Sequence Types - Tuples"
     ]
    },
    {
     "cell_type": "markdown",
     "metadata": {},
     "source": [
      "The `tuple` type is *similar* to the `list` type __except that `tuple`s and their contents are immutable__. \n",
      "\n",
      "* Literal Python `tuple`s are expressed as comma separated lists comprising arbitrary combinations of literal values and variable identifiers enclosed between parentheses \"`()`\".\n",
      "* If the tuple is __not empty__, then the parentheses are __optional__.\n",
      "* If tuples contain a __single element__ a trailing comma is __mandatory__.\n",
      "* The elements of a `tuple` can be \"*indexed*\" (i.e. accessed using their position in the list) using the `[]` operator. __Tuple positions begin from zero__."
     ]
    },
    {
     "cell_type": "code",
     "collapsed": false,
     "input": [
      "# Declare and initialize a tuple using three, heterogeneously typed, literal values\n",
      "tupleOfLiterals = (2, \"for\", 1)\n",
      "\n",
      "# Declare and initialize a list using the three, heterogeneously typed variable \n",
      "# identifiers that were declared in the list example cell.\n",
      "tupleOfVariables = (firstIntVariable, stringVariable, floatVariable)\n",
      "\n",
      "# Declare and initialize a tuple using a heterogeneously typed mixture of variable identifiers \n",
      "# and literal values.\n",
      "mixedTuple = (\"Magnum\", stringVariable, \"ROBIN \", secondIntVariable)\n",
      "\n",
      "# Declare and initialize a tuple, omitting parentheses\n",
      "bareTuple = 2, \"absent\", \"parentheses\"\n",
      "\n",
      "# Declare and initialize an empty tuple\n",
      "emptyTuple = ()\n",
      "\n",
      "# Declare and initialize a tuple with a single element\n",
      "singleElementTuple = (\"Lonely\",)\n",
      "\n",
      "# NOTE: the comma is mandatory, otherwise the result type will not be a tuple\n",
      "# but will simply have the type of the intended \"element\"\n",
      "singleElementNonTuple = (\"Solitary\")\n",
      "\n",
      "# Print the tuples with annotation - Note that no (explicit) loops are required\n",
      "print \"tupleOfLiterals => \",tupleOfLiterals\n",
      "print \"tupleOfVariables => \",tupleOfVariables\n",
      "print \"mixedTuple => \",mixedTuple\n",
      "print \"type(bareTuple) => \", type(bareTuple)\n",
      "print \"bareTuple => \",bareTuple\n",
      "print \"type(emptyTuple) => \", type(emptyTuple)\n",
      "print \"singleElementTuple => \", singleElementTuple\n",
      "print \"type(singleElementTuple) => \", type(singleElementTuple)\n",
      "print \"singleElementNonTuple => \", singleElementNonTuple\n",
      "print \"type(singleElementNonTuple) => \", type(singleElementNonTuple)\n",
      "\n",
      "# Index a particular element of each non-empty tuple and print its value\n",
      "print \"tupleOfLiterals[1] => \",tupleOfLiterals[1]\n",
      "print \"tupleOfVariables[2] => \",tupleOfVariables[2]\n",
      "print \"mixedTuple[3] => \",mixedTuple[3]\n",
      "print \"singleElementTuple[0] => \",singleElementTuple[0]"
     ],
     "language": "python",
     "metadata": {},
     "outputs": [
      {
       "output_type": "stream",
       "stream": "stdout",
       "text": [
        "tupleOfLiterals =>  (2, 'for', 1)\n",
        "tupleOfVariables =>  (3, 'PI', 3.14)\n",
        "mixedTuple =>  ('Magnum', 'PI', 'ROBIN ', 1)\n",
        "type(bareTuple) =>  <type 'tuple'>\n",
        "bareTuple =>  (2, 'absent', 'parentheses')\n",
        "type(emptyTuple) =>  <type 'tuple'>\n",
        "singleElementTuple =>  ('Lonely',)\n",
        "type(singleElementTuple) =>  <type 'tuple'>\n",
        "singleElementNonTuple =>  Solitary\n",
        "type(singleElementNonTuple) =>  <type 'str'>\n",
        "tupleOfLiterals[1] =>  for\n",
        "tupleOfVariables[2] =>  3.14\n",
        "mixedTuple[3] =>  1\n",
        "singleElementTuple[0] =>  Lonely\n"
       ]
      }
     ],
     "prompt_number": 65
    },
    {
     "cell_type": "heading",
     "level": 4,
     "metadata": {},
     "source": [
      "Sequence Types - Strings"
     ]
    },
    {
     "cell_type": "markdown",
     "metadata": {},
     "source": [
      "The `str` and `unicode` types models __strings__ as __sequences__ of characters. Although __Python strings are *immutable*__, the Python string class provides a large number of methods that return __modified__ versions of instance upon which they are invoked. See the [String Methods](https://docs.python.org/2/library/stdtypes.html?highlight=sequence#string-methods) section of the Python online documentation for more details.\n",
      "\n",
      "* Literal Python `str` types can be specified as sequences of characters enclosed within pairs of double-quotes `\"` __or__ single-quotes `'`. Note that __unlike__ C++, single-quotes are __not__ used to define single character literals. \n",
      "* By providing two alternative characters that may legally enclose string literals, Python enables strings that contain single- or double-quotes to be more easily defined.\n",
      "* A string that is enclosed by double-quotes may include single-quote characters without the need for escape characters and vice versa.\n",
      "* Literal Python `unicode` types are specified similarly to `str` types but the opening quotation mark __must__ be prefixed by a `u` character. \n",
      "* The `unicode` type explicitly specifies the __unicode__ encoding for the characters comprising the sequence. Individual unicode characters can be specified within a string by supplying a __*unicode character code*__ prefixed by a \"`\\u`\" token e.g. \"`\\u26C5`\". See [Wikipedia](http://en.wikipedia.org/wiki/List_of_Unicode_characters) for a list of unicode character codes.\n",
      "* Individual characters from `str` or `unicode` objects can be \"*indexed*\" (i.e. accessed using their position) using the `[]` operator. __Positions begin from zero__."
     ]
    },
    {
     "cell_type": "code",
     "collapsed": false,
     "input": [
      "# Declare and initialize a str variable using double-quotes\n",
      "doubleQuoteString = \"How long am I?\"\n",
      "\n",
      "# Declare and initialize a str variable using single-quotes\n",
      "singleQuoteString = 'Twice as long as half your length!'\n",
      "\n",
      "# Declare and initialize a unicode variable using double-quotes\n",
      "doubleQuoteUnicode = u\"Definition! \\u2711\"\n",
      "\n",
      "# Declare and initialize a unicode variable using single-quotes\n",
      "singleQuoteUnicode = u'Take note! \\u261E'\n",
      "\n",
      "# Declare and initialize a str variable, containing double quotes  \n",
      "# and surrounded by single-quotes.\n",
      "nestedString = 'Quoth the Raven, \"Nevermore.\"'\n",
      "\n",
      "# Print the strings with annotation\n",
      "print \"doubleQuoteString =>\",doubleQuoteString\n",
      "print \"singleQuoteString =>\",singleQuoteString\n",
      "print \"doubleQuoteUnicode =>\",doubleQuoteUnicode\n",
      "print \"singleQuoteUnicode =>\",singleQuoteUnicode\n",
      "print \"nestedString =>\", nestedString\n",
      "\n",
      "# Print the character at a specific position in each string\n",
      "print \"doubleQuoteString[3] =>\",doubleQuoteString[4]\n",
      "print \"singleQuoteString[5] =>\",singleQuoteString[6]\n",
      "print \"doubleQuoteUnicode[6] =>\",doubleQuoteUnicode[6]\n",
      "print \"singleQuoteUnicode[7] =>\",singleQuoteUnicode[7]\n",
      "print \"nestedString[8] =>\", nestedString[8]\n"
     ],
     "language": "python",
     "metadata": {},
     "outputs": [
      {
       "output_type": "stream",
       "stream": "stdout",
       "text": [
        "doubleQuoteString => How long am I?\n",
        "singleQuoteString => Twice as long as half your length!\n",
        "doubleQuoteUnicode => Definition! \u2711\n",
        "singleQuoteUnicode => Take note! \u261e\n",
        "nestedString => Quoth the Raven, \"Nevermore.\"\n",
        "doubleQuoteString[3] => l\n",
        "singleQuoteString[5] => a\n",
        "doubleQuoteUnicode[6] => t\n",
        "singleQuoteUnicode[7] => t\n",
        "nestedString[8] => e\n"
       ]
      }
     ],
     "prompt_number": 67
    },
    {
     "cell_type": "heading",
     "level": 4,
     "metadata": {},
     "source": [
      "Slicing Sequences"
     ]
    },
    {
     "cell_type": "markdown",
     "metadata": {},
     "source": [
      "Subsets of a sequence's elements can be extracted by slicing. To extract the subset of elements between `firstPosition` and `secondPosition`__`-1`__ from a __prexisting__ sequence called `sequence`,  use `sequence[firstPosition:secondPosition]`."
     ]
    },
    {
     "cell_type": "code",
     "collapsed": false,
     "input": [
      "# Declare and initialize a list modeling a pizza!\n",
      "wholePizza = [1, 2, 3, 4, 5]\n",
      "# Extract a slice from the pizza list\n",
      "pizzaSlice = wholePizza[1:3] # Should be [2, 3]\n",
      "\n",
      "# Print the whole pizza and the slice with annotation\n",
      "print \"wholePizza => \", wholePizza\n",
      "print \"pizzaSlice => \", pizzaSlice"
     ],
     "language": "python",
     "metadata": {},
     "outputs": [
      {
       "output_type": "stream",
       "stream": "stdout",
       "text": [
        "wholePizza =>  [1, 2, 3, 4, 5]\n",
        "pizzaSlice =>  [2, 3]\n"
       ]
      }
     ],
     "prompt_number": 69
    },
    {
     "cell_type": "markdown",
     "metadata": {},
     "source": [
      "It is also possible to extract every `n`th element between `firstPosition` and `secondPosition`__`-1`__ using `sequence[firstPosition:secondPosition:n]`"
     ]
    },
    {
     "cell_type": "code",
     "collapsed": false,
     "input": [
      "# Redefine wholePizza as a list modeling a pizza with alternately desireable slices!\n",
      "wholePizza = [\"pepperoni\", \"anchovies\", \"pepperoni\", \"anchovies\", \"pepperoni\"]\n",
      "# Extract the pepperoni slices from the pizza\n",
      "pizzaSlices = wholePizza[0:5:2]\n",
      "# Print the whole pizza and the slices with annotation\n",
      "print \"wholePizza => \", wholePizza\n",
      "print \"pizzaSlices => \", pizzaSlices"
     ],
     "language": "python",
     "metadata": {},
     "outputs": [
      {
       "output_type": "stream",
       "stream": "stdout",
       "text": [
        "wholePizza =>  ['pepperoni', 'anchovies', 'pepperoni', 'anchovies', 'pepperoni']\n",
        "pizzaSlices =>  ['pepperoni', 'pepperoni', 'pepperoni']\n"
       ]
      }
     ],
     "prompt_number": 72
    },
    {
     "cell_type": "heading",
     "level": 3,
     "metadata": {},
     "source": [
      "Non-sequence Data Containers"
     ]
    },
    {
     "cell_type": "markdown",
     "metadata": {},
     "source": [
      "Python also provides built in data containers that are not classified as Sequence Types. These types store their elements in an \"__unordered__\" data structures do not support direct element indexing (i.e. accessing an element using its position in the container). "
     ]
    },
    {
     "cell_type": "heading",
     "level": 4,
     "metadata": {},
     "source": [
      "Data Structures - Set Types"
     ]
    },
    {
     "cell_type": "markdown",
     "metadata": {},
     "source": [
      "The Python `set` type models collections of data as abstract mathematical sets and provides methods such as `union()`, `intersection()`, and `contains()` that can be used to straightforwardly compute set-theoretical relationships between collections of data. To achieve this efficiently, the `set` type implements a particular type of __unordered__ data structure called a __*Hash Table*__.\n",
      "\n",
      "* The elements of a set must be \"__*Hashable*__\" objects. See [the definintion of \"hashable\"](https://docs.python.org/2/glossary.html#term-hashable) from the Python language glossary for a precise definition.\n",
      "* The elements of a set are __unique__. If duplicate entries are specified upon initialization or appended later, the duplicates are merged into a single element.\n",
      "* No distinction is made between elements that are supplied as variables and those supplied as literals. If the __values__ of the elements are identical, they are considered to be duplicates.\n",
      "* Literal Python `set` types are expressed as comma separated lists comprising arbitrary combinations of literal values and variable identifiers enclosed between braces \"`{}`\"."
     ]
    },
    {
     "cell_type": "code",
     "collapsed": false,
     "input": [
      "# Declare and initialize a sets using unique literal string values\n",
      "startFromASet = {\"a\", \"b\", \"c\", \"d\", \"e\"}\n",
      "\n",
      "# Declare and initialize a sets using unique literal and variable string values\n",
      "letterC = \"c\"\n",
      "letterF = \"f\"\n",
      "startFromCSet = {letterC, \"d\", \"e\", letterF, \"g\"}\n",
      "\n",
      "# Declare and initialize a set using duplicated literal and variable string values\n",
      "two = 2\n",
      "four = 4\n",
      "duplicateEntrySet = {2,two,3,3,four,4,5,5}\n",
      "\n",
      "# Create new sets using the methods of the set class.\n",
      "setUnion = startFromASet.union(startFromCSet)\n",
      "setIntersection = startFromASet.intersection(startFromCSet)\n",
      "setDifference = startFromASet.difference(startFromCSet)\n",
      "\n",
      "# Print the sets with annotation\n",
      "print \"startFromASet => \", startFromASet\n",
      "print \"startFromCSet => \", startFromCSet\n",
      "print \"duplicateEntrySet => \", duplicateEntrySet\n",
      "print \"setUnion => \", setUnion\n",
      "print \"setIntersection => \", setIntersection\n",
      "print \"setDifference => \", setDifference"
     ],
     "language": "python",
     "metadata": {},
     "outputs": [
      {
       "output_type": "stream",
       "stream": "stdout",
       "text": [
        "startFromASet =>  set(['a', 'c', 'b', 'e', 'd'])\n",
        "startFromCSet =>  set(['c', 'e', 'd', 'g', 'f'])\n",
        "duplicateEntrySet =>  set([2, 3, 4, 5])\n",
        "setUnion =>  set(['a', 'c', 'b', 'e', 'd', 'g', 'f'])\n",
        "setIntersection =>  set(['c', 'e', 'd'])\n",
        "setDifference =>  set(['a', 'b'])\n"
       ]
      }
     ],
     "prompt_number": 86
    },
    {
     "cell_type": "heading",
     "level": 4,
     "metadata": {},
     "source": [
      "Data Structures - Dictionary Types"
     ]
    },
    {
     "cell_type": "markdown",
     "metadata": {},
     "source": [
      "The Python `dict` type provides an __associative__ container that associates its (arbitrarily typed) elements with __*hashable*__ \"__key__\" objects. \n",
      "\n",
      "* The __keys__ of a dictionary are unique. If entries with duplicate keys are specified upon initialization or appended later, the __most recent__ key-element association is retained. The element that was previously associated with a duplicate key is discarded.\n",
      "* No distinction is made between keys that are supplied as variables and those supplied as literals. If the __values__ of the keys are identical, they are considered to be duplicates.\n",
      "* The __elements__ of a dictionary can include duplicates.\n",
      "* Although the elements of a dictionary do not have a defined order and cannot be indexed by their position, elements can be accessed using their associated keys.\n",
      "* Literal Python `dict` types are expressed as comma separated lists of colon separated key-element pairs enclosed between braces \"`{}`\". The elements and keys may be literal values or variable identifiers with the restriction that the key types must be __*hashable*__."
     ]
    },
    {
     "cell_type": "code",
     "collapsed": false,
     "input": [
      "# Declare and initialize a dictionary using literals as key and element values\n",
      "dictOfLiterals = {\"English\" : \"key\", \"German\" : u\"Schl\\u00FCssel\", \"French\" : u\"cl\\u00E9\", \"Swedish\" : \"nyckel\"}\n",
      "\n",
      "# Declare and initialize a dictionary using variables as key and element values\n",
      "firstKey = 1\n",
      "secondKey = 2\n",
      "thirdKey = 3\n",
      "\n",
      "firstElement = \"One\"\n",
      "secondElement = \"Two\"\n",
      "thirdElement = \"Three\"\n",
      "\n",
      "dictOfVariables = {firstKey: firstElement, secondKey: secondElement, thirdKey: thirdElement}\n",
      "\n",
      "# Declare and initialize a dictionary using a mixture of variables and literals as key and element values\n",
      "mixedDict = {firstKey : \"One\", secondKey: secondElement, 3: thirdElement, 4: \"Four\"}\n",
      "\n",
      "# Declare and initialize a dictionary with duplicate keys and elements\n",
      "dictWithDuplicates = {firstKey : \"One\", firstKey: \"Ein\", secondKey: \"Two\", 2: \"Zwei\", 3: \"Three\", 3: \"Three\"}\n",
      "\n",
      "# Print the dictionaries with annotation\n",
      "print \"dictOfLiterals => \", dictOfLiterals\n",
      "print \"dictOfVariables => \", dictOfVariables\n",
      "print \"mixedDict => \", mixedDict\n",
      "print \"dictWithDuplicates => \", dictWithDuplicates\n",
      "\n",
      "# Access dictionary elements using their associated keys\n",
      "print 'dictOfLiterals[\"German\"] =>', dictOfLiterals[\"German\"] # Note: Nested single and double quotes!\n",
      "print \"dictOfVariables[2] =>\", dictOfVariables[2]\n",
      "print \"mixedDict[2] =>\", mixedDict[4]"
     ],
     "language": "python",
     "metadata": {},
     "outputs": [
      {
       "output_type": "stream",
       "stream": "stdout",
       "text": [
        "dictOfLiterals =>  {'German': u'Schl\\xfcssel', 'Swedish': 'nyckel', 'French': u'cl\\xe9', 'English': 'key'}\n",
        "dictOfVariables =>  {1: 'One', 2: 'Two', 3: 'Three'}\n",
        "mixedDict =>  {1: 'One', 2: 'Two', 3: 'Three', 4: 'Four'}\n",
        "dictWithDuplicates =>  {1: 'Ein', 2: 'Zwei', 3: 'Three'}\n",
        "dictOfLiterals[\"German\"] => Schl\u00fcssel\n",
        "dictOfVariables[2] => Two\n",
        "mixedDict[2] => Four\n"
       ]
      }
     ],
     "prompt_number": 84
    },
    {
     "cell_type": "heading",
     "level": 2,
     "metadata": {},
     "source": [
      "Getting Help"
     ]
    },
    {
     "cell_type": "markdown",
     "metadata": {},
     "source": [
      "The source code for many of the entity-types provided by Python includes inline help text. \n",
      "* To access this text for a particular `entityType` use the `help()` function e.g. \"`help(entityType)`\".\n",
      "* The help text can also be accessed by providing an __instance__ of a particular entity type to the `help()` function.\n",
      "* Help for built-in Python functions can also be obtained by passing the __function identifier__ to the `help()` function."
     ]
    },
    {
     "cell_type": "code",
     "collapsed": false,
     "input": [
      "# Print the inline help for the \"set\" type by passing the name of the type to the help() function\n",
      "# Technically, providing the type-name constructs a default-initialized instance of the type.\n",
      "help(set)"
     ],
     "language": "python",
     "metadata": {},
     "outputs": [
      {
       "output_type": "stream",
       "stream": "stdout",
       "text": [
        "Help on class set in module __builtin__:\n",
        "\n",
        "class set(object)\n",
        " |  set() -> new empty set object\n",
        " |  set(iterable) -> new set object\n",
        " |  \n",
        " |  Build an unordered collection of unique elements.\n",
        " |  \n",
        " |  Methods defined here:\n",
        " |  \n",
        " |  __and__(...)\n",
        " |      x.__and__(y) <==> x&y\n",
        " |  \n",
        " |  __cmp__(...)\n",
        " |      x.__cmp__(y) <==> cmp(x,y)\n",
        " |  \n",
        " |  __contains__(...)\n",
        " |      x.__contains__(y) <==> y in x.\n",
        " |  \n",
        " |  __eq__(...)\n",
        " |      x.__eq__(y) <==> x==y\n",
        " |  \n",
        " |  __ge__(...)\n",
        " |      x.__ge__(y) <==> x>=y\n",
        " |  \n",
        " |  __getattribute__(...)\n",
        " |      x.__getattribute__('name') <==> x.name\n",
        " |  \n",
        " |  __gt__(...)\n",
        " |      x.__gt__(y) <==> x>y\n",
        " |  \n",
        " |  __iand__(...)\n",
        " |      x.__iand__(y) <==> x&y\n",
        " |  \n",
        " |  __init__(...)\n",
        " |      x.__init__(...) initializes x; see help(type(x)) for signature\n",
        " |  \n",
        " |  __ior__(...)\n",
        " |      x.__ior__(y) <==> x|y\n",
        " |  \n",
        " |  __isub__(...)\n",
        " |      x.__isub__(y) <==> x-y\n",
        " |  \n",
        " |  __iter__(...)\n",
        " |      x.__iter__() <==> iter(x)\n",
        " |  \n",
        " |  __ixor__(...)\n",
        " |      x.__ixor__(y) <==> x^y\n",
        " |  \n",
        " |  __le__(...)\n",
        " |      x.__le__(y) <==> x<=y\n",
        " |  \n",
        " |  __len__(...)\n",
        " |      x.__len__() <==> len(x)\n",
        " |  \n",
        " |  __lt__(...)\n",
        " |      x.__lt__(y) <==> x<y\n",
        " |  \n",
        " |  __ne__(...)\n",
        " |      x.__ne__(y) <==> x!=y\n",
        " |  \n",
        " |  __or__(...)\n",
        " |      x.__or__(y) <==> x|y\n",
        " |  \n",
        " |  __rand__(...)\n",
        " |      x.__rand__(y) <==> y&x\n",
        " |  \n",
        " |  __reduce__(...)\n",
        " |      Return state information for pickling.\n",
        " |  \n",
        " |  __repr__(...)\n",
        " |      x.__repr__() <==> repr(x)\n",
        " |  \n",
        " |  __ror__(...)\n",
        " |      x.__ror__(y) <==> y|x\n",
        " |  \n",
        " |  __rsub__(...)\n",
        " |      x.__rsub__(y) <==> y-x\n",
        " |  \n",
        " |  __rxor__(...)\n",
        " |      x.__rxor__(y) <==> y^x\n",
        " |  \n",
        " |  __sizeof__(...)\n",
        " |      S.__sizeof__() -> size of S in memory, in bytes\n",
        " |  \n",
        " |  __sub__(...)\n",
        " |      x.__sub__(y) <==> x-y\n",
        " |  \n",
        " |  __xor__(...)\n",
        " |      x.__xor__(y) <==> x^y\n",
        " |  \n",
        " |  add(...)\n",
        " |      Add an element to a set.\n",
        " |      \n",
        " |      This has no effect if the element is already present.\n",
        " |  \n",
        " |  clear(...)\n",
        " |      Remove all elements from this set.\n",
        " |  \n",
        " |  copy(...)\n",
        " |      Return a shallow copy of a set.\n",
        " |  \n",
        " |  difference(...)\n",
        " |      Return the difference of two or more sets as a new set.\n",
        " |      \n",
        " |      (i.e. all elements that are in this set but not the others.)\n",
        " |  \n",
        " |  difference_update(...)\n",
        " |      Remove all elements of another set from this set.\n",
        " |  \n",
        " |  discard(...)\n",
        " |      Remove an element from a set if it is a member.\n",
        " |      \n",
        " |      If the element is not a member, do nothing.\n",
        " |  \n",
        " |  intersection(...)\n",
        " |      Return the intersection of two or more sets as a new set.\n",
        " |      \n",
        " |      (i.e. elements that are common to all of the sets.)\n",
        " |  \n",
        " |  intersection_update(...)\n",
        " |      Update a set with the intersection of itself and another.\n",
        " |  \n",
        " |  isdisjoint(...)\n",
        " |      Return True if two sets have a null intersection.\n",
        " |  \n",
        " |  issubset(...)\n",
        " |      Report whether another set contains this set.\n",
        " |  \n",
        " |  issuperset(...)\n",
        " |      Report whether this set contains another set.\n",
        " |  \n",
        " |  pop(...)\n",
        " |      Remove and return an arbitrary set element.\n",
        " |      Raises KeyError if the set is empty.\n",
        " |  \n",
        " |  remove(...)\n",
        " |      Remove an element from a set; it must be a member.\n",
        " |      \n",
        " |      If the element is not a member, raise a KeyError.\n",
        " |  \n",
        " |  symmetric_difference(...)\n",
        " |      Return the symmetric difference of two sets as a new set.\n",
        " |      \n",
        " |      (i.e. all elements that are in exactly one of the sets.)\n",
        " |  \n",
        " |  symmetric_difference_update(...)\n",
        " |      Update a set with the symmetric difference of itself and another.\n",
        " |  \n",
        " |  union(...)\n",
        " |      Return the union of sets as a new set.\n",
        " |      \n",
        " |      (i.e. all elements that are in either set.)\n",
        " |  \n",
        " |  update(...)\n",
        " |      Update a set with the union of itself and others.\n",
        " |  \n",
        " |  ----------------------------------------------------------------------\n",
        " |  Data and other attributes defined here:\n",
        " |  \n",
        " |  __hash__ = None\n",
        " |  \n",
        " |  __new__ = <built-in method __new__ of type object>\n",
        " |      T.__new__(S, ...) -> a new object with type S, a subtype of T\n",
        "\n"
       ]
      }
     ],
     "prompt_number": 82
    },
    {
     "cell_type": "code",
     "collapsed": false,
     "input": [
      "# Print the inline help for the \"dict\" type by passing a preexisting instance to the help() function\n",
      "help(dictOfVariables)"
     ],
     "language": "python",
     "metadata": {},
     "outputs": [
      {
       "output_type": "stream",
       "stream": "stdout",
       "text": [
        "Help on dict object:\n",
        "\n",
        "class dict(object)\n",
        " |  dict() -> new empty dictionary\n",
        " |  dict(mapping) -> new dictionary initialized from a mapping object's\n",
        " |      (key, value) pairs\n",
        " |  dict(iterable) -> new dictionary initialized as if via:\n",
        " |      d = {}\n",
        " |      for k, v in iterable:\n",
        " |          d[k] = v\n",
        " |  dict(**kwargs) -> new dictionary initialized with the name=value pairs\n",
        " |      in the keyword argument list.  For example:  dict(one=1, two=2)\n",
        " |  \n",
        " |  Methods defined here:\n",
        " |  \n",
        " |  __cmp__(...)\n",
        " |      x.__cmp__(y) <==> cmp(x,y)\n",
        " |  \n",
        " |  __contains__(...)\n",
        " |      D.__contains__(k) -> True if D has a key k, else False\n",
        " |  \n",
        " |  __delitem__(...)\n",
        " |      x.__delitem__(y) <==> del x[y]\n",
        " |  \n",
        " |  __eq__(...)\n",
        " |      x.__eq__(y) <==> x==y\n",
        " |  \n",
        " |  __ge__(...)\n",
        " |      x.__ge__(y) <==> x>=y\n",
        " |  \n",
        " |  __getattribute__(...)\n",
        " |      x.__getattribute__('name') <==> x.name\n",
        " |  \n",
        " |  __getitem__(...)\n",
        " |      x.__getitem__(y) <==> x[y]\n",
        " |  \n",
        " |  __gt__(...)\n",
        " |      x.__gt__(y) <==> x>y\n",
        " |  \n",
        " |  __init__(...)\n",
        " |      x.__init__(...) initializes x; see help(type(x)) for signature\n",
        " |  \n",
        " |  __iter__(...)\n",
        " |      x.__iter__() <==> iter(x)\n",
        " |  \n",
        " |  __le__(...)\n",
        " |      x.__le__(y) <==> x<=y\n",
        " |  \n",
        " |  __len__(...)\n",
        " |      x.__len__() <==> len(x)\n",
        " |  \n",
        " |  __lt__(...)\n",
        " |      x.__lt__(y) <==> x<y\n",
        " |  \n",
        " |  __ne__(...)\n",
        " |      x.__ne__(y) <==> x!=y\n",
        " |  \n",
        " |  __repr__(...)\n",
        " |      x.__repr__() <==> repr(x)\n",
        " |  \n",
        " |  __setitem__(...)\n",
        " |      x.__setitem__(i, y) <==> x[i]=y\n",
        " |  \n",
        " |  __sizeof__(...)\n",
        " |      D.__sizeof__() -> size of D in memory, in bytes\n",
        " |  \n",
        " |  clear(...)\n",
        " |      D.clear() -> None.  Remove all items from D.\n",
        " |  \n",
        " |  copy(...)\n",
        " |      D.copy() -> a shallow copy of D\n",
        " |  \n",
        " |  get(...)\n",
        " |      D.get(k[,d]) -> D[k] if k in D, else d.  d defaults to None.\n",
        " |  \n",
        " |  has_key(...)\n",
        " |      D.has_key(k) -> True if D has a key k, else False\n",
        " |  \n",
        " |  items(...)\n",
        " |      D.items() -> list of D's (key, value) pairs, as 2-tuples\n",
        " |  \n",
        " |  iteritems(...)\n",
        " |      D.iteritems() -> an iterator over the (key, value) items of D\n",
        " |  \n",
        " |  iterkeys(...)\n",
        " |      D.iterkeys() -> an iterator over the keys of D\n",
        " |  \n",
        " |  itervalues(...)\n",
        " |      D.itervalues() -> an iterator over the values of D\n",
        " |  \n",
        " |  keys(...)\n",
        " |      D.keys() -> list of D's keys\n",
        " |  \n",
        " |  pop(...)\n",
        " |      D.pop(k[,d]) -> v, remove specified key and return the corresponding value.\n",
        " |      If key is not found, d is returned if given, otherwise KeyError is raised\n",
        " |  \n",
        " |  popitem(...)\n",
        " |      D.popitem() -> (k, v), remove and return some (key, value) pair as a\n",
        " |      2-tuple; but raise KeyError if D is empty.\n",
        " |  \n",
        " |  setdefault(...)\n",
        " |      D.setdefault(k[,d]) -> D.get(k,d), also set D[k]=d if k not in D\n",
        " |  \n",
        " |  update(...)\n",
        " |      D.update(E, **F) -> None.  Update D from dict/iterable E and F.\n",
        " |      If E has a .keys() method, does:     for k in E: D[k] = E[k]\n",
        " |      If E lacks .keys() method, does:     for (k, v) in E: D[k] = v\n",
        " |      In either case, this is followed by: for k in F: D[k] = F[k]\n",
        " |  \n",
        " |  values(...)\n",
        " |      D.values() -> list of D's values\n",
        " |  \n",
        " |  viewitems(...)\n",
        " |      D.viewitems() -> a set-like object providing a view on D's items\n",
        " |  \n",
        " |  viewkeys(...)\n",
        " |      D.viewkeys() -> a set-like object providing a view on D's keys\n",
        " |  \n",
        " |  viewvalues(...)\n",
        " |      D.viewvalues() -> an object providing a view on D's values\n",
        " |  \n",
        " |  ----------------------------------------------------------------------\n",
        " |  Data and other attributes defined here:\n",
        " |  \n",
        " |  __hash__ = None\n",
        " |  \n",
        " |  __new__ = <built-in method __new__ of type object>\n",
        " |      T.__new__(S, ...) -> a new object with type S, a subtype of T\n",
        " |  \n",
        " |  fromkeys = <built-in method fromkeys of type object>\n",
        " |      dict.fromkeys(S[,v]) -> New dict with keys from S and values equal to v.\n",
        " |      v defaults to None.\n",
        "\n"
       ]
      }
     ],
     "prompt_number": 80
    },
    {
     "cell_type": "code",
     "collapsed": false,
     "input": [
      "# Print the inline help for the range() function.\n",
      "help(range)"
     ],
     "language": "python",
     "metadata": {},
     "outputs": [
      {
       "output_type": "stream",
       "stream": "stdout",
       "text": [
        "Help on built-in function range in module __builtin__:\n",
        "\n",
        "range(...)\n",
        "    range([start,] stop[, step]) -> list of integers\n",
        "    \n",
        "    Return a list containing an arithmetic progression of integers.\n",
        "    range(i, j) returns [i, i+1, i+2, ..., j-1]; start (!) defaults to 0.\n",
        "    When step is given, it specifies the increment (or decrement).\n",
        "    For example, range(4) returns [0, 1, 2, 3].  The end point is omitted!\n",
        "    These are exactly the valid indices for a list of 4 elements.\n",
        "\n"
       ]
      }
     ],
     "prompt_number": 139
    },
    {
     "cell_type": "heading",
     "level": 2,
     "metadata": {},
     "source": [
      "Code Blocks"
     ]
    },
    {
     "cell_type": "markdown",
     "metadata": {},
     "source": [
      "No special characters are required to surround code blocks in Python. Instead, separate code blocks follow a \"`:`\" character and are identified by their consistent __indentation__.\n",
      "\n",
      "Increasingly __nested__ code blocks are defined by __increasing__ the indentation level.\n",
      "\n",
      "The following sections include numerous examples of code block useage that will clarify this statement."
     ]
    },
    {
     "cell_type": "heading",
     "level": 2,
     "metadata": {},
     "source": [
      "Conditional Statements"
     ]
    },
    {
     "cell_type": "markdown",
     "metadata": {},
     "source": [
      "Although the __syntax differs substantially__, the conditional statements provided by the Python language are __conceptually__ very similar to those provided by other popular programming languages like C++. Examples include *if*-type branching statements and the *Ternary* branching statements."
     ]
    },
    {
     "cell_type": "heading",
     "level": 3,
     "metadata": {},
     "source": [
      "Using `if`-type Branching Statements"
     ]
    },
    {
     "cell_type": "markdown",
     "metadata": {},
     "source": [
      "Three keywords are used to construct `if`-type branching statements in Python. These are `if`, `elif` (__NOT__ `else if` as in C++), and `else`.\n",
      "\n",
      "The most simple variant of this statement type comprises a single `if` clause that specifies a boolean expression to determine the branching behaviour and a code block that will be executed if that boolean expression evaluates to \"`True`\"."
     ]
    },
    {
     "cell_type": "code",
     "collapsed": false,
     "input": [
      "one = 1 # English\n",
      "ett = 1 # Swedish\n",
      "# The if clause begins with the keyword \"if\" followed by a boolean expression, followed by a \":\" character\n",
      "if one == ett : # As in C++, the \"==\" token is the \"equal to\" operator\n",
      "    # An indented code block that will be executed if the boolean expression evaluates to \"True\"\n",
      "    print \"Mathematics is a Universal Language!\" "
     ],
     "language": "python",
     "metadata": {},
     "outputs": [
      {
       "output_type": "stream",
       "stream": "stdout",
       "text": [
        "Mathematics is a Universal Language!\n"
       ]
      }
     ],
     "prompt_number": 87
    },
    {
     "cell_type": "markdown",
     "metadata": {},
     "source": [
      "If alternate code should be executed when the boolean expression evaluates to \"`False`\", this can be specified using an \"`else`\" clause. An `else` clause begins with the \"`else`\" keyword, followed by a \"`:`\" character."
     ]
    },
    {
     "cell_type": "code",
     "collapsed": false,
     "input": [
      "if one == 2 :\n",
      "    print \"1 == 2? Panic!\"\n",
      "# Close the code block for the if clause by de-indenting\n",
      "# The else clause begins with the keyword \"else\", followed by a \":\" character\n",
      "else :\n",
      "    # An indented code block that will be executed if the boolean expression provided by the if clause evaluates to \"False\"\n",
      "    print u\"1 \\u2260 2. Relax.\" "
     ],
     "language": "python",
     "metadata": {},
     "outputs": [
      {
       "output_type": "stream",
       "stream": "stdout",
       "text": [
        "1 \u2260 2. Relax.\n"
       ]
      }
     ],
     "prompt_number": 88
    },
    {
     "cell_type": "markdown",
     "metadata": {},
     "source": [
      "Multiple, mutually exclusive branches can be specified by adding \"`elif`\" clauses after the initial \"`if`\" clause. An `elif` clause begins with the \"`elif`\" keyword, followed by a boolean expression, followed by a \"`:`\" character. A final \"`else` clause is permitted but not mandatory."
     ]
    },
    {
     "cell_type": "code",
     "collapsed": false,
     "input": [
      "# Declare a variable that makes it clear more coffee is needed\n",
      "caffienePercent = 10.0\n",
      "\n",
      "if one != 1 :\n",
      "    print \"1 \\u2260 1? Panic!\"\n",
      "# The elif clause begins with the \"elif\" keyword, followed by a boolean expression, followed by a \":\" character.\n",
      "elif caffienePercent < 80.0 :\n",
      "    print \"You're confused. I suggest more coffee. Onwards to Caribou!\"\n",
      "else :\n",
      "    # An indented code block that will be executed if none of the boolean expressions associated with previous\n",
      "    # \"if\" and \"elif\" clauses evaluates to \"True\" \n",
      "    print \"There's no hope, have you considered a career in government appropriations?\" "
     ],
     "language": "python",
     "metadata": {},
     "outputs": [
      {
       "output_type": "stream",
       "stream": "stdout",
       "text": [
        "You're confused. I suggest more coffee. Onwards to Caribou!\n"
       ]
      }
     ],
     "prompt_number": 90
    },
    {
     "cell_type": "heading",
     "level": 3,
     "metadata": {},
     "source": [
      "Using Ternary Branching"
     ]
    },
    {
     "cell_type": "markdown",
     "metadata": {},
     "source": [
      "Ternary branching based on a __boolean value or expression__ in Python is implemented using the `if` and `else` keywords. It resembles a very compact notation for an `if` type branching statement and comprises five distinct tokens\n",
      "1. A value to be returned if the boolean value or expression evaluates to \"`True`\". \n",
      "2. The keyword \"`if`\".\n",
      "3. The boolean value or expression that determines the return value.\n",
      "4. The keyword \"`else`\".\n",
      "5. A value to be returned if the boolean value or expression evaluates to \"`False`\". "
     ]
    },
    {
     "cell_type": "code",
     "collapsed": false,
     "input": [
      "# Declare a boolean-valued variable\n",
      "booleanTrue = True\n",
      "\n",
      "# Use ternary branching to initialize a variable depending on a boolean value\n",
      "truism = \"True\" if booleanTrue else \"False\" # returns True\n",
      "# Use ternary branching to initialize a variable depending on a boolean expression\n",
      "fallacy = \"True\" if booleanTrue == False else \"False\" # returns False\n",
      "\n",
      "# Print the results of the Ternary branching operations\n",
      "print \"truism =>\", truism \n",
      "print \"fallacy =>\", fallacy "
     ],
     "language": "python",
     "metadata": {},
     "outputs": [
      {
       "output_type": "stream",
       "stream": "stdout",
       "text": [
        "truism => True\n",
        "fallacy => False\n"
       ]
      }
     ],
     "prompt_number": 93
    },
    {
     "cell_type": "heading",
     "level": 2,
     "metadata": {},
     "source": [
      "Flow Control"
     ]
    },
    {
     "cell_type": "markdown",
     "metadata": {},
     "source": [
      "Flow control statements in Python comprise *for-loops* and *while-loops*, but __not__ *do-while* loops."
     ]
    },
    {
     "cell_type": "heading",
     "level": 3,
     "metadata": {},
     "source": [
      "For-loops"
     ]
    },
    {
     "cell_type": "markdown",
     "metadata": {},
     "source": [
      "The opening clause of a *for-loop* in Python comprises five elements:\n",
      "1. The keyword \"`for`\".\n",
      "2. An __itentifier__ that will be updated at each iteration of the loop.\n",
      "3. The keyword \"`in`\".\n",
      "4. A \"__range__\" of values that will be assigned to the __identifier__ provided as the second token. Examples of ranges include Python __*Sequence Types*__ and the return value of the built-in [range()](https://docs.python.org/2/library/functions.html#range) function.\n",
      "5. A colon \"`:`\" character.\n",
      "\n",
      "The opening clause is followed by an __indented__ code block that constitutes the for-loop body and will be executed on each iteration and typically includes references to the __identifier__ provided as the second token of the for loop's opening clause."
     ]
    },
    {
     "cell_type": "code",
     "collapsed": false,
     "input": [
      "# Declare a list of values to iterate over\n",
      "listOfValues = [ u\"\\u2461\", u\"\\u24B7\", u'\\u2228', u'\\u00AC', u\"\\u2461\", u\"\\u24B7\"]\n",
      "\n",
      "print \"Shakespeare?\"\n",
      "# Loop over all elements of listOfValues. Successive elements will be assigned to \"value\" on every iteration.\n",
      "for value in listOfValues :\n",
      "    #indented code block defines the for-loop body\n",
      "    print value\n",
      "\n",
      "print \"\\nLast Action Hero?\"\n",
      "# Loop over a slice taken from of listOfValues.\n",
      "for value in listOfValues[3:6] :\n",
      "    #indented code block defines the for-loop body\n",
      "    print value\n",
      "\n",
      "print \"\\nForgotten line?\"\n",
      "# Use a generated range of integers to index \"listOfValues\" .\n",
      "for index in range(0,3) :\n",
      "    #indented code block defines the for-loop body\n",
      "    print listOfValues[index]\n",
      "    \n",
      "# Demonstrate the the range function. \n",
      "# The full signature is: range(start, end, step)\n",
      "# Recall: help(range) would provide help\n",
      "rangeList = range(1, 10, 2)\n",
      "print \"\\nrangeList =>\", rangeList"
     ],
     "language": "python",
     "metadata": {},
     "outputs": [
      {
       "output_type": "stream",
       "stream": "stdout",
       "text": [
        "Shakespeare?\n",
        "\u2461\n",
        "\u24b7\n",
        "\u2228\n",
        "\u00ac\n",
        "\u2461\n",
        "\u24b7\n",
        "\n",
        "Last Action Hero?\n",
        "\u00ac\n",
        "\u2461\n",
        "\u24b7\n",
        "\n",
        "Forgotten line?\n",
        "\u2461\n",
        "\u24b7\n",
        "\u2228\n",
        "\n",
        "rangeList => [1, 3, 5, 7, 9]\n"
       ]
      }
     ],
     "prompt_number": 112
    },
    {
     "cell_type": "heading",
     "level": 3,
     "metadata": {},
     "source": [
      "While-loops"
     ]
    },
    {
     "cell_type": "markdown",
     "metadata": {},
     "source": [
      "The opening clause of a while-loop in Python comprises three elements:\n",
      "1. The \"`while`\" token.\n",
      "2. The boolean value or expression that is evaluated at the beginning of each iteration and determines whether iteration should continue.\n",
      "3. A colon \"`:`\" character.\n",
      "\n",
      "\n"
     ]
    },
    {
     "cell_type": "code",
     "collapsed": false,
     "input": [
      "# Declare an integer variable to provide a stop condition\n",
      "stopAtValue = 5\n",
      "\n",
      "# Declare an integer variable to mutate within the loop\n",
      "currentValue = 0\n",
      "\n",
      "# Begin a while loop that will iterate until currentValue == 4\n",
      "while currentValue != stopAtValue : \n",
      "    #indented code block defines the while-loop body\n",
      "    print \"currentValue is\", currentValue\n",
      "    currentValue += 1 # Note python does not provide the increment operator \"++\""
     ],
     "language": "python",
     "metadata": {},
     "outputs": [
      {
       "output_type": "stream",
       "stream": "stdout",
       "text": [
        "currentValue is 0\n",
        "currentValue is 1\n",
        "currentValue is 2\n",
        "currentValue is 3\n",
        "currentValue is 4\n"
       ]
      }
     ],
     "prompt_number": 115
    },
    {
     "cell_type": "heading",
     "level": 3,
     "metadata": {},
     "source": [
      "Functions"
     ]
    },
    {
     "cell_type": "markdown",
     "metadata": {},
     "source": [
      "Python function definitions begin with the \"`def`\" keyword. This is followed by an __identifier__ which can be used to __call__ the function. The identifier must be followed by a parenthesized list of __parameter identifiers__ that can be used __within the function body__ to refer to the arguments that were used to call the function. The parameter list is followed by a colon \"`:`\" character and an indented code block that defines the function body.\n",
      "\n",
      "To return a value from a Python function use the \"`return`\" keyword, followed by the identifier of the variable whose value you wish to return."
     ]
    },
    {
     "cell_type": "code",
     "collapsed": false,
     "input": [
      "# Define a trivial function that accepts no parameters just prints a hard-coded value\n",
      "def trivial() :\n",
      "    print \"Pursuit\"\n",
      "    \n",
      "# Define a function that accepts a single parameter, converts it to a string, applies\n",
      "# several transformations to the characters using methods of the str class and prints\n",
      "# the results\n",
      "def echo(parameter) :\n",
      "    print parameter.upper(), str(parameter).capitalize(), str(parameter).lower(), \"...\"\n",
      "    \n",
      "# Define a function that accepts two parameters. The first parameter is expected to \n",
      "# be a Python Sequence and the second is expected to define a range of integers\n",
      "# corresponding to indices of the sequence\n",
      "def printSome(sequence, rangeToPrint) :\n",
      "    for index in rangeToPrint :\n",
      "        # Code block containing the for-loop body is more deeply indented\n",
      "        print sequence[index]\n",
      "        \n"
     ],
     "language": "python",
     "metadata": {},
     "outputs": []
    },
    {
     "cell_type": "markdown",
     "metadata": {},
     "source": [
      "To call a function that accepts no parameters enter its identifier followed by an empty pair of parentheses \"`()`\"."
     ]
    },
    {
     "cell_type": "code",
     "collapsed": false,
     "input": [
      "# Call the trivial function that accepts no parameters\n",
      "trivial()"
     ],
     "language": "python",
     "metadata": {},
     "outputs": []
    },
    {
     "cell_type": "markdown",
     "metadata": {},
     "source": [
      "To call parameterized functions enter the function identifier and supply a comma-separated list of arguments - one for each of the required parameters."
     ]
    },
    {
     "cell_type": "code",
     "collapsed": false,
     "input": [
      "print \"echo =>\\n\"\n",
      "# Call a function that accepta a single parameter, passing a literal string as its argument\n",
      "echo(\"Echo!\")\n",
      "\n",
      "print \"\\nprintSome =>\\n\"\n",
      "# Call a function that expects two parameters, passing a prexisting variable and the return\n",
      "# value of another function as the first and second arguments.\n",
      "printSome(listOfValues, range(1,6,4))"
     ],
     "language": "python",
     "metadata": {},
     "outputs": [
      {
       "output_type": "stream",
       "stream": "stdout",
       "text": [
        "echo =>\n",
        "\n",
        "ECHO! Echo! echo! ...\n",
        "\n",
        "printSome =>\n",
        "\n",
        "\u24b7\n",
        "\u24b7\n"
       ]
      }
     ],
     "prompt_number": 141
    },
    {
     "cell_type": "heading",
     "level": 2,
     "metadata": {},
     "source": [
      "Features Trailer"
     ]
    },
    {
     "cell_type": "markdown",
     "metadata": {},
     "source": [
      "Python has been used to develop several packages that are designed for numerical and scientific computation. Examples include [NumPy](http://www.numpy.org), [SciPy](http://scipy.org), [AstroPy](http://www.astropy.org) and [Matplotlib](http://matplotlib.org).\n",
      "\n",
      "__*We will investigate all of these packages in subsequent lectures...*__"
     ]
    }
   ],
   "metadata": {}
  }
 ]
}